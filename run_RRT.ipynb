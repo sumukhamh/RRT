{
 "cells": [
  {
   "cell_type": "code",
   "execution_count": 1,
   "metadata": {},
   "outputs": [],
   "source": [
    "import numpy as np\n",
    "import random\n",
    "import matplotlib.pyplot as plt\n",
    "\n",
    "import load_data\n",
    "import utils"
   ]
  },
  {
   "cell_type": "code",
   "execution_count": 2,
   "metadata": {},
   "outputs": [],
   "source": [
    "start = load_data.start\n",
    "goal = load_data.goal\n",
    "obstacles = load_data.obstacles\n",
    "grid_size = 30\n",
    "eps = 1.0"
   ]
  },
  {
   "cell_type": "code",
   "execution_count": 3,
   "metadata": {},
   "outputs": [],
   "source": [
    "start_node = utils.Node(start)\n",
    "goal_node = utils.Node(goal)"
   ]
  },
  {
   "cell_type": "code",
   "execution_count": 4,
   "metadata": {},
   "outputs": [
    {
     "ename": "NameError",
     "evalue": "name 'util' is not defined",
     "output_type": "error",
     "traceback": [
      "\u001b[1;31m---------------------------------------------------------------------------\u001b[0m",
      "\u001b[1;31mNameError\u001b[0m                                 Traceback (most recent call last)",
      "\u001b[1;32m<ipython-input-4-ebfa1e3fc123>\u001b[0m in \u001b[0;36m<module>\u001b[1;34m()\u001b[0m\n\u001b[0;32m     17\u001b[0m                 \u001b[0madvanced_node\u001b[0m\u001b[1;33m.\u001b[0m\u001b[0mchildren\u001b[0m\u001b[1;33m.\u001b[0m\u001b[0mappend\u001b[0m\u001b[1;33m(\u001b[0m\u001b[0mgoal_node\u001b[0m\u001b[1;33m)\u001b[0m\u001b[1;33m\u001b[0m\u001b[0m\n\u001b[0;32m     18\u001b[0m                 \u001b[1;32mbreak\u001b[0m\u001b[1;33m\u001b[0m\u001b[0m\n\u001b[1;32m---> 19\u001b[1;33m \u001b[0mutil\u001b[0m\u001b[1;33m.\u001b[0m\u001b[0mplot_nodes\u001b[0m\u001b[1;33m(\u001b[0m\u001b[0mnodes\u001b[0m\u001b[1;33m)\u001b[0m\u001b[1;33m\u001b[0m\u001b[0m\n\u001b[0m",
      "\u001b[1;31mNameError\u001b[0m: name 'util' is not defined"
     ]
    }
   ],
   "source": [
    "# Run RRT\n",
    "nodes = []\n",
    "nodes.append(start_node)\n",
    "while True:\n",
    "    new_node = utils.sample(grid_size)\n",
    "    nearest_node = utils.get_nearest_node(nodes, new_node, 2*grid_size)\n",
    "    advanced_node = utils.steer(nearest_node, new_node, eps)\n",
    "    collision = utils.check_collision(nearest_node, advanced_node, obstacles)\n",
    "    if not collision:\n",
    "        nodes.append(advanced_node)\n",
    "        advanced_node.parent = nearest_node\n",
    "        nearest_node.children.append(advanced_node)\n",
    "        if utils.get_distance(advanced_node, goal_node) < eps:\n",
    "            if not utils.check_collision(advanced_node, goal_node, obstacles):\n",
    "                nodes.append(goal_node)\n",
    "                goal_node.parent = advanced_node\n",
    "                advanced_node.children.append(goal_node)\n",
    "                break\n",
    "utils.plot_nodes(nodes)"
   ]
  }
 ],
 "metadata": {
  "kernelspec": {
   "display_name": "Python 3",
   "language": "python",
   "name": "python3"
  },
  "language_info": {
   "codemirror_mode": {
    "name": "ipython",
    "version": 3
   },
   "file_extension": ".py",
   "mimetype": "text/x-python",
   "name": "python",
   "nbconvert_exporter": "python",
   "pygments_lexer": "ipython3",
   "version": "3.6.5"
  }
 },
 "nbformat": 4,
 "nbformat_minor": 2
}
